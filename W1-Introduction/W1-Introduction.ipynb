{
  "nbformat": 4,
  "nbformat_minor": 5,
  "metadata": {
    "kernelspec": {
      "display_name": "Python 3",
      "language": "python",
      "name": "python3"
    },
    "language_info": {
      "codemirror_mode": {
        "name": "ipython",
        "version": 3
      },
      "file_extension": ".py",
      "mimetype": "text/x-python",
      "name": "python",
      "nbconvert_exporter": "python",
      "pygments_lexer": "ipython3",
      "version": "3.9.7"
    }
  },
  "cells": [
    {
      "cell_type": "markdown",
      "metadata": {},
      "source": [
        "# Homework - MLOps Zoomcamp 2025\n",
        "\n",
        "This notebook contains the solution to the homework for Week 1 of the MLOps Zoomcamp 2025."
      ]
    },
    {
      "cell_type": "code",
      "execution_count": null,
      "metadata": {},
      "outputs": [],
      "source": [
        "# Import necessary libraries\n",
        "import pandas as pd\n",
        "import numpy as np\n",
        "from sklearn.linear_model import LinearRegression\n",
        "from sklearn.metrics import mean_squared_error\n",
        "from sklearn.feature_extraction import DictVectorizer\n",
        "\n",
        "# Download the January and February 2023 data\n",
        "url_jan = 'https://d37ci6vzurychx.cloudfront.net/trip-data/yellow_tripdata_2023-01.parquet '\n",
        "url_feb = 'https://d37ci6vzurychx.cloudfront.net/trip-data/yellow_tripdata_2023-02.parquet '\n",
        "\n",
        "# Read the data\n",
        "df_jan = pd.read_parquet(url_jan)\n",
        "df_feb = pd.read_parquet(url_feb)"
      ]
    },
    {
      "cell_type": "code",
      "execution_count": null,
      "metadata": {},
      "outputs": [],
      "source": [
        "# How many columns are there in the January data?\n",
        "num_columns = df_jan.shape[1]\n",
        "print(f\"Number of columns in January: {num_columns}\")"
      ]
    },
    {
      "cell_type": "code",
      "execution_count": null,
      "metadata": {},
      "outputs": [],
      "source": [
        "# Calculate the trip duration in minutes\n",
        "df_jan['duration'] = (df_jan['tpep_dropoff_datetime'] - df_jan['tpep_pickup_datetime']).dt.total_seconds() / 60\n",
        "\n",
        "# What is the standard deviation of the trip durations in January?\n",
        "std_duration = df_jan['duration'].std()\n",
        "print(f\"Standard deviation of trip durations in January: {std_duration:.2f}\")"
      ]
    },
    {
      "cell_type": "code",
      "execution_count": null,
      "metadata": {},
      "outputs": [],
      "source": [
        "# Filter outliers\n",
        "df_jan_filtered = df_jan[(df_jan['duration'] >= 1) & (df_jan['duration'] <= 60)]\n",
        "\n",
        "# What fraction of the records remain after removing outliers?\n",
        "fraction_remaining = len(df_jan_filtered) / len(df_jan)\n",
        "print(f\"Fraction of remaining records: {fraction_remaining:.2%}\")"
      ]
    },
    {
      "cell_type": "code",
      "execution_count": null,
      "metadata": {},
      "outputs": [],
      "source": [
        "# Prepare the data for the model\n",
        "df_jan_filtered['PUlocationID'] = df_jan_filtered['PULocationID'].astype(str)\n",
        "df_jan_filtered['DOlocationID'] = df_jan_filtered['DOLocationID'].astype(str)\n",
        "\n",
        "# Create a list of dictionaries for the vectorizer\n",
        "train_dicts = df_jan_filtered[['PUlocationID', 'DOlocationID']].to_dict(orient='records')\n",
        "\n",
        "# One-hot encoding\n",
        "dv = DictVectorizer()\n",
        "X_train = dv.fit_transform(train_dicts)\n",
        "y_train = df_jan_filtered['duration'].values\n",
        "\n",
        "# What is the dimensionality of the feature matrix (number of columns)?\n",
        "num_features = X_train.shape[1]\n",
        "print(f\"Number of columns in the feature matrix: {num_features}\")"
      ]
    },
    {
      "cell_type": "code",
      "execution_count": null,
      "metadata": {},
      "outputs": [],
      "source": [
        "# Train a linear regression model\n",
        "model = LinearRegression()\n",
        "model.fit(X_train, y_train)\n",
        "\n",
        "# What is the RMSE on the training set?\n",
        "y_train_pred = model.predict(X_train)\n",
        "rmse_train = np.sqrt(mean_squared_error(y_train, y_train_pred))\n",
        "print(f\"RMSE on the training set: {rmse_train:.2f}\")"
      ]
    },
    {
      "cell_type": "code",
      "execution_count": null,
      "metadata": {},
      "outputs": [],
      "source": [
        "# Process the validation data (February)\n",
        "df_feb['duration'] = (df_feb['tpep_dropoff_datetime'] - df_feb['tpep_pickup_datetime']).dt.total_seconds() / 60\n",
        "df_feb_filtered = df_feb[(df_feb['duration'] >= 1) & (df_feb['duration'] <= 60)]\n",
        "\n",
        "df_feb_filtered['PUlocationID'] = df_feb_filtered['PULocationID'].astype(str)\n",
        "df_feb_filtered['DOlocationID'] = df_feb_filtered['DOLocationID'].astype(str)\n",
        "\n",
        "val_dicts = df_feb_filtered[['PUlocationID', 'DOlocationID']].to_dict(orient='records')\n",
        "X_val = dv.transform(val_dicts)\n",
        "y_val = df_feb_filtered['duration'].values\n",
        "\n",
        "# What is the RMSE on the validation set?\n",
        "y_val_pred = model.predict(X_val)\n",
        "rmse_val = np.sqrt(mean_squared_error(y_val, y_val_pred))\n",
        "print(f\"RMSE on the validation set: {rmse_val:.2f}\")"
      ]
    }
  ]
}